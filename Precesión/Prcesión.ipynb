{
  "nbformat": 4,
  "nbformat_minor": 0,
  "metadata": {
    "colab": {
      "provenance": []
    },
    "kernelspec": {
      "name": "python3",
      "display_name": "Python 3"
    },
    "language_info": {
      "name": "python"
    }
  },
  "cells": [
    {
      "cell_type": "code",
      "execution_count": null,
      "metadata": {
        "id": "NZ4wG8YvUERu"
      },
      "outputs": [],
      "source": [
        "# Combinamos todos los valores de la orbita hacia adelante y hacia atras\n",
        "tau_vals = np.hstack([np.flip(orbit_bw.geo.tau), orbit_fw.geo.tau])\n",
        "r_vals = np.hstack([np.flip(orbit_bw.geo.x[:, 1]), orbit_fw.geo.x[:, 1]])\n",
        "phi_vals = np.hstack([np.flip(orbit_bw.geo.x[:, 3]), orbit_fw.geo.x[:, 3]])\n",
        "ur_vals = np.hstack([np.flip(orbit_bw.geo.u[:, 1]), orbit_fw.geo.u[:, 1]])\n",
        "\n",
        "\n",
        "# Ordenamos todos los arrays por tiempo creciente\n",
        "sort_idx = np.argsort(tau_vals)\n",
        "r_vals_sorted = r_vals[sort_idx]\n",
        "phi_vals_sorted = phi_vals[sort_idx]\n",
        "ur_vals_sorted = ur_vals[sort_idx]\n",
        "\n",
        "# \"Desenrollamos\" phi para no tener problemas\n",
        "phi_vals_unwrapped = -np.unwrap(phi_vals_sorted)\n",
        "\n",
        "# Detectamos los periastros\n",
        "peri_idxs = np.where((ur_vals_sorted[:-1] < 0) & (ur_vals_sorted[1:] > 0))[0] + 1\n",
        "\n",
        "\n",
        "print(f\"Número de periastros detectados: {len(peri_idxs)}\")\n",
        "\n",
        "for i in range(len(peri_idxs) - 1):\n",
        "    phi1 = phi_vals_unwrapped[peri_idxs[i]]\n",
        "    phi2 = phi_vals_unwrapped[peri_idxs[i+1]]\n",
        "    dphi = phi2 - phi1\n",
        "    print(f\"Periastro {i} → {i+1}: ∆phi = {np.degrees(dphi):.6f}°\")\n",
        "\n",
        "# Calculamos ∆phi por órbita\n",
        "dphi = np.diff(phi_vals_unwrapped[peri_idxs])\n",
        "\n",
        "# Precesión en cada órbita (exceso sobre 2pi)\n",
        "precession_rad_each = dphi - 2*np.pi\n",
        "\n",
        "# Conversión a minutos de arco\n",
        "precession_arcmin_each = precession_rad_each * (180 / np.pi) * 60\n",
        "\n",
        "# Imprimir cada valor individual (para cada orbita, en este caso tomamos el primer valor detectado)\n",
        "for i, prec in enumerate(precession_arcmin_each):\n",
        "    print(f\"Precesión en la órbita {i} → {i+1}: {prec:.4f} arcmin\")"
      ]
    }
  ]
}